{
 "cells": [
  {
   "cell_type": "code",
   "execution_count": 1,
   "id": "e6ee4ed5",
   "metadata": {},
   "outputs": [
    {
     "ename": "ModuleNotFoundError",
     "evalue": "No module named 'pandas_profiling'",
     "output_type": "error",
     "traceback": [
      "\u001b[1;31m---------------------------------------------------------------------------\u001b[0m",
      "\u001b[1;31mModuleNotFoundError\u001b[0m                       Traceback (most recent call last)",
      "Cell \u001b[1;32mIn[1], line 10\u001b[0m\n\u001b[0;32m      7\u001b[0m \u001b[38;5;28;01mimport\u001b[39;00m \u001b[38;5;21;01mseaborn\u001b[39;00m \u001b[38;5;28;01mas\u001b[39;00m \u001b[38;5;21;01msns\u001b[39;00m\n\u001b[0;32m      8\u001b[0m sns\u001b[38;5;241m.\u001b[39mset_theme()\n\u001b[1;32m---> 10\u001b[0m \u001b[38;5;28;01mfrom\u001b[39;00m \u001b[38;5;21;01mpandas_profiling\u001b[39;00m \u001b[38;5;28;01mimport\u001b[39;00m ProfileReport\n",
      "\u001b[1;31mModuleNotFoundError\u001b[0m: No module named 'pandas_profiling'"
     ]
    }
   ],
   "source": [
    "import pandas as pd\n",
    "import numpy as np\n",
    "\n",
    "import matplotlib as mpl\n",
    "import matplotlib.pyplot as plt\n",
    "%matplotlib inline\n",
    "import seaborn as sns\n",
    "sns.set_theme()\n",
    "\n",
    "from pandas_profiling import ProfileReport\n"
   ]
  },
  {
   "cell_type": "code",
   "execution_count": null,
   "id": "1b8f4df5",
   "metadata": {},
   "outputs": [],
   "source": [
    "df = pd.read_csv('student-por.csv', sep = ';')\n"
   ]
  },
  {
   "cell_type": "code",
   "execution_count": null,
   "id": "4e963007",
   "metadata": {},
   "outputs": [],
   "source": [
    "df.head()"
   ]
  },
  {
   "cell_type": "code",
   "execution_count": null,
   "id": "e165a680",
   "metadata": {},
   "outputs": [],
   "source": [
    "df.shape"
   ]
  },
  {
   "cell_type": "code",
   "execution_count": null,
   "id": "66c5a66e",
   "metadata": {},
   "outputs": [],
   "source": [
    "df.isnull().sum()"
   ]
  },
  {
   "cell_type": "code",
   "execution_count": null,
   "id": "a050d4b3",
   "metadata": {},
   "outputs": [],
   "source": [
    "df['school'].unique()"
   ]
  },
  {
   "cell_type": "code",
   "execution_count": null,
   "id": "ff42705d",
   "metadata": {},
   "outputs": [],
   "source": [
    "df.info()"
   ]
  },
  {
   "cell_type": "code",
   "execution_count": null,
   "id": "bc5cf1d4",
   "metadata": {},
   "outputs": [],
   "source": [
    "for (columnName, columnData) in df.items():\n",
    "    print('Column Name : ', columnName)\n",
    "    print('Column Contents : ', columnData.values)"
   ]
  },
  {
   "cell_type": "code",
   "execution_count": null,
   "id": "b847fdd9",
   "metadata": {},
   "outputs": [],
   "source": []
  },
  {
   "cell_type": "code",
   "execution_count": null,
   "id": "04ef9588",
   "metadata": {},
   "outputs": [],
   "source": []
  },
  {
   "cell_type": "code",
   "execution_count": null,
   "id": "9b0296d9",
   "metadata": {},
   "outputs": [],
   "source": [
    "for (columnName, columnData) in df.items():\n",
    "    print('Column Name : ', columnName)\n",
    "    print('Unique : ', columnData.unique())"
   ]
  },
  {
   "cell_type": "code",
   "execution_count": null,
   "id": "19a3b2cb",
   "metadata": {},
   "outputs": [],
   "source": [
    "for (columnName, columnData) in df.items():\n",
    "    print('Column Name : ', columnName)\n"
   ]
  },
  {
   "cell_type": "code",
   "execution_count": null,
   "id": "51779685",
   "metadata": {},
   "outputs": [],
   "source": [
    "#prof = ProfileReport(df)\n",
    "#prof.to_file(output_file='output.html')"
   ]
  },
  {
   "cell_type": "code",
   "execution_count": null,
   "id": "c0d3c535",
   "metadata": {},
   "outputs": [],
   "source": [
    "df['G3'].unique()"
   ]
  },
  {
   "cell_type": "code",
   "execution_count": null,
   "id": "89cbf895",
   "metadata": {},
   "outputs": [],
   "source": [
    "df['G3'].nunique()"
   ]
  },
  {
   "cell_type": "code",
   "execution_count": null,
   "id": "0d8d68a2",
   "metadata": {},
   "outputs": [],
   "source": [
    "df['G3'].value_counts()"
   ]
  },
  {
   "cell_type": "code",
   "execution_count": null,
   "id": "622cf183",
   "metadata": {},
   "outputs": [],
   "source": [
    "#Dropping outliers: \n",
    "#Remove students who did not take the G3 exam. This includes 15 students, or 2.3% of the total population.\n",
    "\n",
    "df = df.loc[ df['G3'] != 0 ]"
   ]
  },
  {
   "cell_type": "code",
   "execution_count": null,
   "id": "bd939061",
   "metadata": {},
   "outputs": [],
   "source": [
    "df.shape"
   ]
  },
  {
   "cell_type": "code",
   "execution_count": null,
   "id": "09e28adc",
   "metadata": {},
   "outputs": [],
   "source": [
    "sns.displot(data=df, x=\"G3\", kind=\"kde\"\n",
    "           , bw_adjust=.65\n",
    "           )\n",
    "\n",
    "    "
   ]
  },
  {
   "cell_type": "code",
   "execution_count": null,
   "id": "9558f769",
   "metadata": {},
   "outputs": [],
   "source": [
    "sns.displot(data=df, x=\"G3\", hue=\"school\", kind=\"kde\", fill=True\n",
    "            , bw_adjust=.75\n",
    "           )\n"
   ]
  },
  {
   "cell_type": "code",
   "execution_count": null,
   "id": "05e128ea",
   "metadata": {},
   "outputs": [],
   "source": [
    "sns.displot(data=df, x=\"G3\", hue=\"sex\", kind=\"kde\", fill=True\n",
    "            , bw_adjust=.75\n",
    "           )\n"
   ]
  },
  {
   "cell_type": "code",
   "execution_count": null,
   "id": "96191329",
   "metadata": {},
   "outputs": [],
   "source": [
    "sns.displot(data=df, x=\"G3\", hue=\"address\", kind=\"kde\", fill=True\n",
    "            , bw_adjust=.75\n",
    "           )\n"
   ]
  },
  {
   "cell_type": "code",
   "execution_count": null,
   "id": "a1d0ba8c",
   "metadata": {},
   "outputs": [],
   "source": [
    "sns.displot(data=df, x=\"G3\", hue=\"address\"\n",
    "            #, kind=\"kde\", fill=True\n",
    "           # , bw_adjust=.75\n",
    "            , stat=\"density\", common_norm=False\n",
    "           )\n"
   ]
  },
  {
   "cell_type": "code",
   "execution_count": null,
   "id": "d7d0c2a1",
   "metadata": {},
   "outputs": [],
   "source": [
    "sns.displot(data=df, x=\"G3\", hue=\"address\"\n",
    "            #, kind=\"kde\", fill=True\n",
    "           # , bw_adjust=.75\n",
    "            , stat=\"probability\"\n",
    "           )\n"
   ]
  },
  {
   "cell_type": "code",
   "execution_count": null,
   "id": "a77e0ad4",
   "metadata": {},
   "outputs": [],
   "source": [
    "sns.displot(data=df, x=\"G3\", hue=\"famsize\", kind=\"kde\", fill=True\n",
    "           # , bw_adjust=.75\n",
    "           )\n"
   ]
  },
  {
   "cell_type": "code",
   "execution_count": null,
   "id": "f0c149d9",
   "metadata": {},
   "outputs": [],
   "source": [
    "sns.displot(data=df, x=\"G3\", hue=\"Pstatus\", kind=\"kde\", fill=True\n",
    "           # , bw_adjust=.75\n",
    "           )\n"
   ]
  },
  {
   "cell_type": "code",
   "execution_count": null,
   "id": "9d95f535",
   "metadata": {},
   "outputs": [],
   "source": [
    "sns.displot(data=df, x=\"G3\", hue=\"Medu\", kind=\"kde\", fill=True\n",
    "           # , bw_adjust=.75\n",
    "           )\n"
   ]
  },
  {
   "cell_type": "code",
   "execution_count": null,
   "id": "2c6f8fd5",
   "metadata": {},
   "outputs": [],
   "source": [
    "sns.displot(data=df, x=\"G3\", hue=\"Fedu\", kind=\"kde\", fill=True\n",
    "           # , bw_adjust=.75\n",
    "           )\n"
   ]
  },
  {
   "cell_type": "code",
   "execution_count": null,
   "id": "40710caa",
   "metadata": {},
   "outputs": [],
   "source": [
    "sns.displot(data=df, x=\"G3\", hue=\"Mjob\", kind=\"kde\", fill=True\n",
    "           # , bw_adjust=.75\n",
    "           )\n"
   ]
  },
  {
   "cell_type": "code",
   "execution_count": null,
   "id": "93cfa0e0",
   "metadata": {},
   "outputs": [],
   "source": [
    "sns.displot(data=df, x=\"G3\", hue=\"Fjob\", kind=\"kde\", fill=True\n",
    "           # , bw_adjust=.75\n",
    "           )\n"
   ]
  },
  {
   "cell_type": "code",
   "execution_count": null,
   "id": "5ea06801",
   "metadata": {},
   "outputs": [],
   "source": [
    "sns.displot(data=df, x=\"G3\", hue=\"reason\", kind=\"kde\", fill=True\n",
    "           # , bw_adjust=.75\n",
    "           )\n"
   ]
  },
  {
   "cell_type": "code",
   "execution_count": null,
   "id": "53146125",
   "metadata": {},
   "outputs": [],
   "source": [
    "sns.displot(data=df, x=\"G3\", hue=\"guardian\", kind=\"kde\", fill=True\n",
    "           # , bw_adjust=.75\n",
    "           )\n"
   ]
  },
  {
   "cell_type": "code",
   "execution_count": null,
   "id": "fd18be13",
   "metadata": {},
   "outputs": [],
   "source": [
    "sns.displot(data=df, x=\"G3\", hue=\"traveltime\", kind=\"kde\", fill=True\n",
    "           # , bw_adjust=.75\n",
    "           )\n"
   ]
  },
  {
   "cell_type": "code",
   "execution_count": null,
   "id": "3fbd4cc3",
   "metadata": {},
   "outputs": [],
   "source": [
    "sns.displot(data=df, x=\"G3\", hue=\"studytime\", kind=\"kde\", fill=True\n",
    "           # , bw_adjust=.75\n",
    "           )\n"
   ]
  },
  {
   "cell_type": "code",
   "execution_count": null,
   "id": "60bcefa3",
   "metadata": {},
   "outputs": [],
   "source": [
    "sns.displot(data=df, x=\"G3\", hue=\"failures\", kind=\"kde\", fill=True\n",
    "           # , bw_adjust=.75\n",
    "           )\n"
   ]
  },
  {
   "cell_type": "code",
   "execution_count": null,
   "id": "2cd37232",
   "metadata": {},
   "outputs": [],
   "source": [
    "sns.displot(data=df, x=\"G3\", hue=\"schoolsup\", kind=\"kde\", fill=True\n",
    "           # , bw_adjust=.75\n",
    "           )\n"
   ]
  },
  {
   "cell_type": "code",
   "execution_count": null,
   "id": "5fe0c992",
   "metadata": {},
   "outputs": [],
   "source": [
    "sns.displot(data=df, x=\"G3\", hue=\"famsup\", kind=\"kde\", fill=True\n",
    "           # , bw_adjust=.75\n",
    "           )\n"
   ]
  },
  {
   "cell_type": "code",
   "execution_count": null,
   "id": "0a705c71",
   "metadata": {},
   "outputs": [],
   "source": [
    "sns.displot(data=df, x=\"G3\", hue=\"paid\", kind=\"kde\", fill=True\n",
    "           # , bw_adjust=.75\n",
    "           )\n"
   ]
  },
  {
   "cell_type": "code",
   "execution_count": null,
   "id": "98ff8862",
   "metadata": {},
   "outputs": [],
   "source": [
    "sns.displot(data=df, x=\"G3\", hue=\"activities\", kind=\"kde\", fill=True\n",
    "           # , bw_adjust=.75\n",
    "           )\n"
   ]
  },
  {
   "cell_type": "code",
   "execution_count": null,
   "id": "eb03b58f",
   "metadata": {},
   "outputs": [],
   "source": [
    "sns.displot(data=df, x=\"G3\", hue=\"nursery\", kind=\"kde\", fill=True\n",
    "           # , bw_adjust=.75\n",
    "           )\n"
   ]
  },
  {
   "cell_type": "code",
   "execution_count": null,
   "id": "6f416122",
   "metadata": {},
   "outputs": [],
   "source": [
    "sns.displot(data=df, x=\"G3\", hue=\"higher\", kind=\"kde\", fill=True\n",
    "           # , bw_adjust=.75\n",
    "           )\n"
   ]
  },
  {
   "cell_type": "code",
   "execution_count": null,
   "id": "1b9efd23",
   "metadata": {},
   "outputs": [],
   "source": [
    "sns.displot(data=df, x=\"G3\", hue=\"internet\", kind=\"kde\", fill=True\n",
    "           # , bw_adjust=.75\n",
    "           )\n"
   ]
  },
  {
   "cell_type": "code",
   "execution_count": null,
   "id": "912c8d1b",
   "metadata": {},
   "outputs": [],
   "source": [
    "sns.displot(data=df, x=\"G3\", hue=\"romantic\", kind=\"kde\", fill=True\n",
    "           # , bw_adjust=.75\n",
    "           )\n"
   ]
  },
  {
   "cell_type": "code",
   "execution_count": null,
   "id": "688621e3",
   "metadata": {},
   "outputs": [],
   "source": [
    "sns.displot(data=df, x=\"G3\", hue=\"famrel\", kind=\"kde\", fill=True\n",
    "           # , bw_adjust=.75\n",
    "           )\n"
   ]
  },
  {
   "cell_type": "code",
   "execution_count": null,
   "id": "7feb8ec1",
   "metadata": {},
   "outputs": [],
   "source": [
    "sns.displot(data=df, x=\"G3\", hue=\"freetime\", kind=\"kde\", fill=True\n",
    "           # , bw_adjust=.75\n",
    "           )\n"
   ]
  },
  {
   "cell_type": "code",
   "execution_count": null,
   "id": "3ee5fd31",
   "metadata": {},
   "outputs": [],
   "source": [
    "sns.displot(data=df, x=\"G3\", hue=\"goout\", kind=\"kde\", fill=True\n",
    "           # , bw_adjust=.75\n",
    "           )\n"
   ]
  },
  {
   "cell_type": "code",
   "execution_count": null,
   "id": "a833164d",
   "metadata": {},
   "outputs": [],
   "source": [
    "sns.displot(data=df, x=\"G3\", hue=\"Dalc\", kind=\"kde\", fill=True\n",
    "           # , bw_adjust=.75\n",
    "           )\n"
   ]
  },
  {
   "cell_type": "code",
   "execution_count": null,
   "id": "a1f5ba1d",
   "metadata": {},
   "outputs": [],
   "source": [
    "sns.displot(data=df, x=\"G3\", hue=\"Walc\", kind=\"kde\", fill=True\n",
    "           # , bw_adjust=.75\n",
    "           )\n"
   ]
  },
  {
   "cell_type": "code",
   "execution_count": null,
   "id": "bb095193",
   "metadata": {},
   "outputs": [],
   "source": [
    "sns.displot(data=df, x=\"G3\", hue=\"health\", kind=\"kde\", fill=True\n",
    "            , bw_adjust=.75\n",
    "           )\n"
   ]
  },
  {
   "cell_type": "code",
   "execution_count": null,
   "id": "b863a8e9",
   "metadata": {},
   "outputs": [],
   "source": [
    "sns.displot(data=df, x=\"G3\", hue=\"absences\", kind=\"kde\", fill=True\n",
    "           # , bw_adjust=.75\n",
    "           )\n"
   ]
  },
  {
   "cell_type": "code",
   "execution_count": null,
   "id": "10d46ae6",
   "metadata": {},
   "outputs": [],
   "source": [
    "sns.displot(data=df, x=\"G3\", hue=\"school\", kind=\"kde\", fill=True, col=\"sex\"\n",
    "            #, bw_adjust=.75\n",
    "           )\n"
   ]
  },
  {
   "cell_type": "code",
   "execution_count": null,
   "id": "3f3d57cd",
   "metadata": {},
   "outputs": [],
   "source": [
    "sns.displot(data=df, x=\"G3\", hue=\"school\", kind=\"kde\", fill=True, col=\"age\"\n",
    "            #, bw_adjust=.75\n",
    "           )\n"
   ]
  },
  {
   "cell_type": "code",
   "execution_count": null,
   "id": "79b31d78",
   "metadata": {},
   "outputs": [],
   "source": []
  },
  {
   "cell_type": "code",
   "execution_count": null,
   "id": "7dcb2d7b",
   "metadata": {
    "scrolled": false
   },
   "outputs": [],
   "source": [
    "sns.displot(data=df, x=\"G3\", hue=\"address\", kind=\"kde\", fill=True, col=\"school\"\n",
    "            #, bw_adjust=.75\n",
    "           )\n"
   ]
  },
  {
   "cell_type": "code",
   "execution_count": null,
   "id": "5358fe7b",
   "metadata": {},
   "outputs": [],
   "source": [
    "sns.displot(data=df, x=\"G3\", hue=\"school\", kind=\"kde\", fill=True, col=\"reason\"\n",
    "            #, bw_adjust=.75\n",
    "           )\n"
   ]
  },
  {
   "cell_type": "code",
   "execution_count": null,
   "id": "ec655e52",
   "metadata": {},
   "outputs": [],
   "source": [
    "sns.displot(data=df, x=\"G3\", hue=\"school\", kind=\"kde\", fill=True, col=\"traveltime\"\n",
    "            #, bw_adjust=.75\n",
    "           )\n"
   ]
  },
  {
   "cell_type": "code",
   "execution_count": null,
   "id": "c5a5a447",
   "metadata": {},
   "outputs": [],
   "source": [
    "sns.displot(data=df, x=\"G3\", hue=\"school\", kind=\"kde\", fill=True, col=\"studytime\"\n",
    "            #, bw_adjust=.75\n",
    "           )\n"
   ]
  },
  {
   "cell_type": "code",
   "execution_count": null,
   "id": "5c21ac7f",
   "metadata": {},
   "outputs": [],
   "source": [
    "sns.displot(data=df, x=\"G3\", hue=\"school\", kind=\"kde\", fill=True, col=\"failures\"\n",
    "            #, bw_adjust=.75\n",
    "           )\n"
   ]
  },
  {
   "cell_type": "code",
   "execution_count": null,
   "id": "0e777408",
   "metadata": {},
   "outputs": [],
   "source": [
    "sns.displot(data=df, x=\"G3\", hue=\"school\", kind=\"kde\", fill=True, col=\"sex\"\n",
    "            #, bw_adjust=.75\n",
    "           )\n"
   ]
  },
  {
   "cell_type": "code",
   "execution_count": null,
   "id": "aac60d20",
   "metadata": {},
   "outputs": [],
   "source": [
    "sns.displot(df, x=\"age\", y=\"absences\",hue=\"G3\")\n"
   ]
  },
  {
   "cell_type": "code",
   "execution_count": null,
   "id": "f8a8a8ab",
   "metadata": {},
   "outputs": [],
   "source": [
    "sns.catplot(data=df, x=\"school\", y=\"G3\", kind=\"swarm\", s = 2)\n"
   ]
  },
  {
   "cell_type": "code",
   "execution_count": null,
   "id": "f13a4e35",
   "metadata": {},
   "outputs": [],
   "source": [
    "sns.catplot(data=df, x=\"school\", y=\"G3\"\n",
    "            #, kind=\"swarm\", s = 2\n",
    "           , kind=\"box\"\n",
    "           )\n"
   ]
  },
  {
   "cell_type": "code",
   "execution_count": null,
   "id": "4524f93c",
   "metadata": {},
   "outputs": [],
   "source": [
    "sns.catplot(data=df, x=\"sex\", y=\"G3\", kind=\"swarm\", s = 2)\n"
   ]
  },
  {
   "cell_type": "code",
   "execution_count": null,
   "id": "410c1bc2",
   "metadata": {},
   "outputs": [],
   "source": [
    "sns.catplot(data=df, x=\"sex\", y=\"G3\"\n",
    "            #, kind=\"swarm\", s = 2\n",
    "           , kind=\"box\"\n",
    "           )\n"
   ]
  },
  {
   "cell_type": "code",
   "execution_count": null,
   "id": "dd0e313c",
   "metadata": {},
   "outputs": [],
   "source": [
    "sns.catplot(data=df, x=\"age\", y=\"G3\", kind=\"swarm\", s = 1)\n"
   ]
  },
  {
   "cell_type": "code",
   "execution_count": null,
   "id": "73efda10",
   "metadata": {},
   "outputs": [],
   "source": [
    "sns.catplot(data=df, x=\"age\", y=\"G3\"\n",
    "            #, kind=\"swarm\", s = 2\n",
    "           , kind=\"box\"\n",
    "           )\n"
   ]
  },
  {
   "cell_type": "code",
   "execution_count": null,
   "id": "24763c25",
   "metadata": {},
   "outputs": [],
   "source": [
    "sns.catplot(data=df, x=\"address\", y=\"G3\", kind=\"swarm\", s = 2)\n"
   ]
  },
  {
   "cell_type": "code",
   "execution_count": null,
   "id": "0a35db6a",
   "metadata": {},
   "outputs": [],
   "source": [
    "sns.catplot(data=df, x=\"address\", y=\"G3\"\n",
    "            #, kind=\"swarm\", s = 2\n",
    "           , kind=\"box\"\n",
    "           )\n"
   ]
  },
  {
   "cell_type": "code",
   "execution_count": null,
   "id": "a7db7118",
   "metadata": {},
   "outputs": [],
   "source": [
    "sns.catplot(data=df, x=\"famsize\", y=\"G3\", kind=\"swarm\", s = 2)\n"
   ]
  },
  {
   "cell_type": "code",
   "execution_count": null,
   "id": "d85f17c5",
   "metadata": {},
   "outputs": [],
   "source": [
    "sns.catplot(data=df, x=\"famsize\", y=\"G3\"\n",
    "            #, kind=\"swarm\", s = 2\n",
    "           , kind=\"box\"\n",
    "           )\n"
   ]
  },
  {
   "cell_type": "code",
   "execution_count": null,
   "id": "b0af1daf",
   "metadata": {},
   "outputs": [],
   "source": [
    "sns.catplot(data=df, x=\"Pstatus\", y=\"G3\", kind=\"swarm\", s = 2)\n"
   ]
  },
  {
   "cell_type": "code",
   "execution_count": null,
   "id": "3341856f",
   "metadata": {},
   "outputs": [],
   "source": [
    "sns.catplot(data=df, x=\"Pstatus\", y=\"G3\"\n",
    "            #, kind=\"swarm\", s = 2\n",
    "           , kind=\"box\"\n",
    "           )\n"
   ]
  },
  {
   "cell_type": "code",
   "execution_count": null,
   "id": "dfa1fede",
   "metadata": {},
   "outputs": [],
   "source": [
    "sns.catplot(data=df, x=\"Medu\", y=\"G3\", kind=\"swarm\", s = 2)\n"
   ]
  },
  {
   "cell_type": "code",
   "execution_count": null,
   "id": "1be30d43",
   "metadata": {},
   "outputs": [],
   "source": [
    "sns.catplot(data=df, x=\"Medu\", y=\"G3\"\n",
    "            #, kind=\"swarm\", s = 2\n",
    "           , kind=\"box\"\n",
    "           )\n"
   ]
  },
  {
   "cell_type": "code",
   "execution_count": null,
   "id": "358a1d2b",
   "metadata": {},
   "outputs": [],
   "source": [
    "sns.catplot(data=df, x=\"Fedu\", y=\"G3\", kind=\"swarm\", s = 2)\n"
   ]
  },
  {
   "cell_type": "code",
   "execution_count": null,
   "id": "7e5e54c3",
   "metadata": {},
   "outputs": [],
   "source": [
    "sns.catplot(data=df, x=\"Fedu\", y=\"G3\"\n",
    "            #, kind=\"swarm\", s = 2\n",
    "           , kind=\"box\"\n",
    "           )\n"
   ]
  },
  {
   "cell_type": "code",
   "execution_count": null,
   "id": "cdb1c26a",
   "metadata": {},
   "outputs": [],
   "source": [
    "sns.catplot(data=df, x=\"Mjob\", y=\"G3\", kind=\"swarm\", s = 1.5)\n"
   ]
  },
  {
   "cell_type": "code",
   "execution_count": null,
   "id": "3b24d092",
   "metadata": {},
   "outputs": [],
   "source": [
    "sns.catplot(data=df, x=\"Mjob\", y=\"G3\"\n",
    "            #, kind=\"swarm\", s = 2\n",
    "           , kind=\"box\"\n",
    "           )\n"
   ]
  },
  {
   "cell_type": "code",
   "execution_count": null,
   "id": "360e9a69",
   "metadata": {},
   "outputs": [],
   "source": []
  },
  {
   "cell_type": "code",
   "execution_count": null,
   "id": "e706149a",
   "metadata": {},
   "outputs": [],
   "source": [
    "#Is there a relationship between Medu and Mjob?\n",
    "sns.catplot(data=df, x=\"Medu\", y=\"Mjob\", kind=\"swarm\", s = 1)\n"
   ]
  },
  {
   "cell_type": "code",
   "execution_count": null,
   "id": "dbd435ff",
   "metadata": {},
   "outputs": [],
   "source": [
    "sns.stripplot(data=df, x=\"Medu\", y=\"Mjob\")\n"
   ]
  },
  {
   "cell_type": "code",
   "execution_count": null,
   "id": "e3938b59",
   "metadata": {},
   "outputs": [],
   "source": []
  },
  {
   "cell_type": "code",
   "execution_count": null,
   "id": "1193966a",
   "metadata": {},
   "outputs": [],
   "source": []
  },
  {
   "cell_type": "code",
   "execution_count": null,
   "id": "24ccd4cd",
   "metadata": {},
   "outputs": [],
   "source": []
  },
  {
   "cell_type": "code",
   "execution_count": null,
   "id": "fe4089bf",
   "metadata": {},
   "outputs": [],
   "source": []
  },
  {
   "cell_type": "code",
   "execution_count": null,
   "id": "513b6709",
   "metadata": {},
   "outputs": [],
   "source": [
    "sns.catplot(data=df, x=\"Fjob\", y=\"G3\", kind=\"swarm\", s = 2)\n"
   ]
  },
  {
   "cell_type": "code",
   "execution_count": null,
   "id": "f3672872",
   "metadata": {},
   "outputs": [],
   "source": [
    "sns.catplot(data=df, x=\"Fjob\", y=\"G3\"\n",
    "            #, kind=\"swarm\", s = 2\n",
    "           , kind=\"box\"\n",
    "           )\n"
   ]
  },
  {
   "cell_type": "code",
   "execution_count": null,
   "id": "5bc0fb3c",
   "metadata": {},
   "outputs": [],
   "source": [
    "sns.catplot(data=df, x=\"reason\", y=\"G3\", kind=\"swarm\", s = 2)\n"
   ]
  },
  {
   "cell_type": "code",
   "execution_count": null,
   "id": "457ebb4c",
   "metadata": {},
   "outputs": [],
   "source": [
    "sns.catplot(data=df, x=\"reason\", y=\"G3\"\n",
    "            #, kind=\"swarm\", s = 2\n",
    "           , kind=\"box\"\n",
    "           )\n"
   ]
  },
  {
   "cell_type": "code",
   "execution_count": null,
   "id": "a17ec051",
   "metadata": {},
   "outputs": [],
   "source": [
    "sns.catplot(data=df, x=\"guardian\", y=\"G3\", kind=\"swarm\", s = 2)\n"
   ]
  },
  {
   "cell_type": "code",
   "execution_count": null,
   "id": "2bfd0c2a",
   "metadata": {},
   "outputs": [],
   "source": [
    "sns.catplot(data=df, x=\"guardian\", y=\"G3\"\n",
    "            #, kind=\"swarm\", s = 2\n",
    "           , kind=\"box\"\n",
    "           )\n"
   ]
  },
  {
   "cell_type": "code",
   "execution_count": null,
   "id": "10eb0aa4",
   "metadata": {},
   "outputs": [],
   "source": []
  },
  {
   "cell_type": "code",
   "execution_count": null,
   "id": "95129576",
   "metadata": {},
   "outputs": [],
   "source": []
  },
  {
   "cell_type": "code",
   "execution_count": null,
   "id": "6d500fae",
   "metadata": {},
   "outputs": [],
   "source": []
  },
  {
   "cell_type": "code",
   "execution_count": null,
   "id": "dfb6589f",
   "metadata": {},
   "outputs": [],
   "source": []
  },
  {
   "cell_type": "code",
   "execution_count": null,
   "id": "3644c9b0",
   "metadata": {},
   "outputs": [],
   "source": []
  },
  {
   "cell_type": "code",
   "execution_count": null,
   "id": "cd74edf7",
   "metadata": {},
   "outputs": [],
   "source": []
  },
  {
   "cell_type": "code",
   "execution_count": null,
   "id": "c1c074f0",
   "metadata": {},
   "outputs": [],
   "source": []
  },
  {
   "cell_type": "code",
   "execution_count": null,
   "id": "dceb8000",
   "metadata": {},
   "outputs": [],
   "source": []
  },
  {
   "cell_type": "code",
   "execution_count": null,
   "id": "bb36907e",
   "metadata": {},
   "outputs": [],
   "source": []
  },
  {
   "cell_type": "code",
   "execution_count": null,
   "id": "6462fc8e",
   "metadata": {},
   "outputs": [],
   "source": [
    "sns.catplot(data=df, x=\"traveltime\", y=\"G3\", kind=\"swarm\", s = 1.5)\n"
   ]
  },
  {
   "cell_type": "code",
   "execution_count": null,
   "id": "47badfc4",
   "metadata": {},
   "outputs": [],
   "source": []
  },
  {
   "cell_type": "code",
   "execution_count": null,
   "id": "55e763d1",
   "metadata": {},
   "outputs": [],
   "source": []
  },
  {
   "cell_type": "code",
   "execution_count": null,
   "id": "73e8fd81",
   "metadata": {},
   "outputs": [],
   "source": []
  },
  {
   "cell_type": "code",
   "execution_count": null,
   "id": "f44015da",
   "metadata": {},
   "outputs": [],
   "source": []
  },
  {
   "cell_type": "code",
   "execution_count": null,
   "id": "bbdb1b56",
   "metadata": {},
   "outputs": [],
   "source": [
    "sns.catplot(data=df, x=\"traveltime\", y=\"G3\"\n",
    "            #, kind=\"swarm\", s = 2\n",
    "           , kind=\"box\"\n",
    "           )\n"
   ]
  },
  {
   "cell_type": "code",
   "execution_count": null,
   "id": "83628c93",
   "metadata": {},
   "outputs": [],
   "source": [
    "sns.catplot(data=df, x=\"studytime\", y=\"G3\", kind=\"swarm\", s = 2)\n"
   ]
  },
  {
   "cell_type": "code",
   "execution_count": null,
   "id": "98e7edd1",
   "metadata": {},
   "outputs": [],
   "source": [
    "sns.catplot(data=df, x=\"studytime\", y=\"G3\"\n",
    "            #, kind=\"swarm\", s = 2\n",
    "           , kind=\"box\"\n",
    "           )\n"
   ]
  },
  {
   "cell_type": "code",
   "execution_count": null,
   "id": "8b882d44",
   "metadata": {},
   "outputs": [],
   "source": [
    "sns.catplot(data=df, x=\"failures\", y=\"G3\", kind=\"swarm\", s = .5)\n"
   ]
  },
  {
   "cell_type": "code",
   "execution_count": null,
   "id": "0c3c874d",
   "metadata": {},
   "outputs": [],
   "source": [
    "sns.catplot(data=df, x=\"failures\", y=\"G3\"\n",
    "            #, kind=\"swarm\", s = 2\n",
    "           , kind=\"box\"\n",
    "           )\n"
   ]
  },
  {
   "cell_type": "code",
   "execution_count": null,
   "id": "555d5aad",
   "metadata": {},
   "outputs": [],
   "source": [
    "sns.catplot(data=df, x=\"schoolsup\", y=\"G3\", kind=\"swarm\", s = .5)\n"
   ]
  },
  {
   "cell_type": "code",
   "execution_count": null,
   "id": "5b637f1f",
   "metadata": {},
   "outputs": [],
   "source": [
    "sns.catplot(data=df, x=\"schoolsup\", y=\"G3\"\n",
    "            #, kind=\"swarm\", s = 2\n",
    "           , kind=\"box\"\n",
    "           )\n"
   ]
  },
  {
   "cell_type": "code",
   "execution_count": null,
   "id": "c067e48d",
   "metadata": {},
   "outputs": [],
   "source": [
    "sns.catplot(data=df, x=\"famsup\", y=\"G3\", kind=\"swarm\", s = .5)\n"
   ]
  },
  {
   "cell_type": "code",
   "execution_count": null,
   "id": "1f634a28",
   "metadata": {},
   "outputs": [],
   "source": [
    "sns.catplot(data=df, x=\"famsup\", y=\"G3\"\n",
    "            #, kind=\"swarm\", s = 2\n",
    "           , kind=\"box\"\n",
    "           )\n"
   ]
  },
  {
   "cell_type": "code",
   "execution_count": null,
   "id": "1ef79e98",
   "metadata": {},
   "outputs": [],
   "source": [
    "sns.catplot(data=df, x=\"paid\", y=\"G3\", kind=\"swarm\", s = .5)\n"
   ]
  },
  {
   "cell_type": "code",
   "execution_count": null,
   "id": "5159413e",
   "metadata": {},
   "outputs": [],
   "source": [
    "sns.catplot(data=df, x=\"paid\", y=\"G3\"\n",
    "            #, kind=\"swarm\", s = 2\n",
    "           , kind=\"box\"\n",
    "           )\n"
   ]
  },
  {
   "cell_type": "code",
   "execution_count": null,
   "id": "689edecb",
   "metadata": {},
   "outputs": [],
   "source": []
  },
  {
   "cell_type": "code",
   "execution_count": null,
   "id": "b723b7bb",
   "metadata": {},
   "outputs": [],
   "source": []
  },
  {
   "cell_type": "code",
   "execution_count": null,
   "id": "b8ef72c4",
   "metadata": {},
   "outputs": [],
   "source": []
  },
  {
   "cell_type": "code",
   "execution_count": null,
   "id": "9bba3865",
   "metadata": {},
   "outputs": [],
   "source": [
    "sns.catplot(data=df, x=\"activities\", y=\"G3\", kind=\"swarm\", s = 2)\n",
    "\n"
   ]
  },
  {
   "cell_type": "code",
   "execution_count": null,
   "id": "78629555",
   "metadata": {},
   "outputs": [],
   "source": [
    "sns.catplot(data=df, x=\"activities\", y=\"G3\"\n",
    "            #, kind=\"swarm\", s = 2\n",
    "           , kind=\"box\"\n",
    "           )\n"
   ]
  },
  {
   "cell_type": "code",
   "execution_count": null,
   "id": "f2d3894e",
   "metadata": {},
   "outputs": [],
   "source": [
    "sns.catplot(data=df, x=\"nursery\", y=\"G3\", kind=\"swarm\", s = 2)\n"
   ]
  },
  {
   "cell_type": "code",
   "execution_count": null,
   "id": "e5ddf5a9",
   "metadata": {},
   "outputs": [],
   "source": [
    "sns.catplot(data=df, x=\"nursery\", y=\"G3\"\n",
    "            #, kind=\"swarm\", s = 2\n",
    "           , kind=\"box\"\n",
    "           )\n"
   ]
  },
  {
   "cell_type": "code",
   "execution_count": null,
   "id": "58d96af4",
   "metadata": {},
   "outputs": [],
   "source": [
    "sns.catplot(data=df, x=\"higher\", y=\"G3\", kind=\"swarm\", s = 2)\n"
   ]
  },
  {
   "cell_type": "code",
   "execution_count": null,
   "id": "e07b95b7",
   "metadata": {},
   "outputs": [],
   "source": [
    "sns.catplot(data=df, x=\"higher\", y=\"G3\"\n",
    "            #, kind=\"swarm\", s = 2\n",
    "           , kind=\"box\"\n",
    "           )\n"
   ]
  },
  {
   "cell_type": "code",
   "execution_count": null,
   "id": "622d22b7",
   "metadata": {},
   "outputs": [],
   "source": [
    "sns.catplot(data=df, x=\"internet\", y=\"G3\", kind=\"swarm\", s = 2)\n"
   ]
  },
  {
   "cell_type": "code",
   "execution_count": null,
   "id": "022b87bb",
   "metadata": {},
   "outputs": [],
   "source": [
    "sns.catplot(data=df, x=\"internet\", y=\"G3\"\n",
    "            #, kind=\"swarm\", s = 2\n",
    "           , kind=\"box\"\n",
    "           )\n"
   ]
  },
  {
   "cell_type": "code",
   "execution_count": null,
   "id": "5984781b",
   "metadata": {},
   "outputs": [],
   "source": [
    "sns.catplot(data=df, x=\"romantic\", y=\"G3\", kind=\"swarm\", s = 2)\n"
   ]
  },
  {
   "cell_type": "code",
   "execution_count": null,
   "id": "2decf8c6",
   "metadata": {},
   "outputs": [],
   "source": [
    "sns.catplot(data=df, x=\"romantic\", y=\"G3\"\n",
    "            #, kind=\"swarm\", s = 2\n",
    "           , kind=\"box\"\n",
    "           )\n"
   ]
  },
  {
   "cell_type": "code",
   "execution_count": null,
   "id": "3dc6d905",
   "metadata": {},
   "outputs": [],
   "source": [
    "sns.catplot(data=df, x=\"famrel\", y=\"G3\", kind=\"swarm\", s = 1.5)\n"
   ]
  },
  {
   "cell_type": "code",
   "execution_count": null,
   "id": "643cc3a7",
   "metadata": {},
   "outputs": [],
   "source": [
    "sns.catplot(data=df, x=\"famrel\", y=\"G3\"\n",
    "            #, kind=\"swarm\", s = 2\n",
    "           , kind=\"box\"\n",
    "           )\n"
   ]
  },
  {
   "cell_type": "code",
   "execution_count": null,
   "id": "c477653a",
   "metadata": {},
   "outputs": [],
   "source": [
    "sns.catplot(data=df, x=\"freetime\", y=\"G3\", kind=\"swarm\", s = 1.5)\n"
   ]
  },
  {
   "cell_type": "code",
   "execution_count": null,
   "id": "3571e438",
   "metadata": {},
   "outputs": [],
   "source": [
    "sns.catplot(data=df, x=\"freetime\", y=\"G3\"\n",
    "            #, kind=\"swarm\", s = 2\n",
    "           , kind=\"box\"\n",
    "           )\n"
   ]
  },
  {
   "cell_type": "code",
   "execution_count": null,
   "id": "43c9660c",
   "metadata": {},
   "outputs": [],
   "source": [
    "sns.catplot(data=df, x=\"goout\", y=\"G3\", kind=\"swarm\", s = 2)\n"
   ]
  },
  {
   "cell_type": "code",
   "execution_count": null,
   "id": "3d29e736",
   "metadata": {},
   "outputs": [],
   "source": [
    "sns.catplot(data=df, x=\"goout\", y=\"G3\"\n",
    "            #, kind=\"swarm\", s = 2\n",
    "           , kind=\"box\"\n",
    "           )\n"
   ]
  },
  {
   "cell_type": "code",
   "execution_count": null,
   "id": "f22230ef",
   "metadata": {},
   "outputs": [],
   "source": [
    "sns.catplot(data=df, x=\"Dalc\", y=\"G3\", kind=\"swarm\", s = 1)\n"
   ]
  },
  {
   "cell_type": "code",
   "execution_count": null,
   "id": "d8cdc26d",
   "metadata": {},
   "outputs": [],
   "source": [
    "sns.catplot(data=df, x=\"Dalc\", y=\"G3\"\n",
    "            #, kind=\"swarm\", s = 2\n",
    "           , kind=\"box\"\n",
    "           )\n"
   ]
  },
  {
   "cell_type": "code",
   "execution_count": null,
   "id": "f9122f3d",
   "metadata": {},
   "outputs": [],
   "source": [
    "sns.catplot(data=df, x=\"Walc\", y=\"G3\", kind=\"swarm\", s = 1.5)\n"
   ]
  },
  {
   "cell_type": "code",
   "execution_count": null,
   "id": "cfc81f41",
   "metadata": {},
   "outputs": [],
   "source": [
    "sns.catplot(data=df, x=\"Walc\", y=\"G3\"\n",
    "            #, kind=\"swarm\", s = 2\n",
    "           , kind=\"box\"\n",
    "           )\n"
   ]
  },
  {
   "cell_type": "code",
   "execution_count": null,
   "id": "f661a2e5",
   "metadata": {},
   "outputs": [],
   "source": [
    "sns.catplot(data=df, x=\"health\", y=\"G3\", kind=\"swarm\", s = 1.5)\n"
   ]
  },
  {
   "cell_type": "code",
   "execution_count": null,
   "id": "5749b24b",
   "metadata": {},
   "outputs": [],
   "source": [
    "sns.catplot(data=df, x=\"health\", y=\"G3\"\n",
    "            #, kind=\"swarm\", s = 2\n",
    "           , kind=\"box\"\n",
    "           )\n"
   ]
  },
  {
   "cell_type": "code",
   "execution_count": null,
   "id": "2c404378",
   "metadata": {},
   "outputs": [],
   "source": [
    "sns.catplot(data=df, x=\"absences\", y=\"G3\", kind=\"swarm\", s = 1)\n"
   ]
  },
  {
   "cell_type": "code",
   "execution_count": null,
   "id": "541049e8",
   "metadata": {},
   "outputs": [],
   "source": [
    "sns.catplot(data=df, x=\"absences\", y=\"G3\"\n",
    "            #, kind=\"swarm\", s = 2\n",
    "           , kind=\"box\"\n",
    "           )\n"
   ]
  },
  {
   "cell_type": "code",
   "execution_count": null,
   "id": "1357d102",
   "metadata": {},
   "outputs": [],
   "source": [
    "df['absences'].value_counts()"
   ]
  },
  {
   "cell_type": "code",
   "execution_count": null,
   "id": "29b5f47f",
   "metadata": {},
   "outputs": [],
   "source": [
    "temp1 = df['absences'].value_counts()"
   ]
  },
  {
   "cell_type": "code",
   "execution_count": null,
   "id": "d56fcd81",
   "metadata": {},
   "outputs": [],
   "source": [
    "temp1.sort_values(0)"
   ]
  },
  {
   "cell_type": "code",
   "execution_count": null,
   "id": "87dbcc33",
   "metadata": {},
   "outputs": [],
   "source": [
    "temp1.info"
   ]
  },
  {
   "cell_type": "code",
   "execution_count": null,
   "id": "1018d3e8",
   "metadata": {},
   "outputs": [],
   "source": [
    "temp1.sort_index()"
   ]
  },
  {
   "cell_type": "code",
   "execution_count": null,
   "id": "12bc6bc7",
   "metadata": {},
   "outputs": [],
   "source": [
    "temp1.sum()"
   ]
  },
  {
   "cell_type": "code",
   "execution_count": null,
   "id": "e3309741",
   "metadata": {},
   "outputs": [],
   "source": [
    "df['absences']\n"
   ]
  },
  {
   "cell_type": "code",
   "execution_count": null,
   "id": "bb33e3b2",
   "metadata": {},
   "outputs": [],
   "source": [
    "temp = pd.qcut(df['absences'], q=2)\n"
   ]
  },
  {
   "cell_type": "code",
   "execution_count": null,
   "id": "2d17dab8",
   "metadata": {},
   "outputs": [],
   "source": [
    "temp"
   ]
  },
  {
   "cell_type": "code",
   "execution_count": null,
   "id": "f9a20144",
   "metadata": {},
   "outputs": [],
   "source": [
    "temp.value_counts()"
   ]
  },
  {
   "cell_type": "code",
   "execution_count": null,
   "id": "9c0bb6b0",
   "metadata": {},
   "outputs": [],
   "source": [
    "## Define function for grouping birth state/country into categories\n",
    "def get_absences(N):\n",
    "    \n",
    "    # check if U.S. territory or out of country\n",
    "    if N == 0 :\n",
    "        return '1'\n",
    "        \n",
    "    elif N>0 and N<5 :\n",
    "        return '2'\n",
    "    \n",
    "    else:\n",
    "        return '3'"
   ]
  },
  {
   "cell_type": "code",
   "execution_count": null,
   "id": "736bb8fc",
   "metadata": {},
   "outputs": [],
   "source": [
    "df['absences_bin'] = df['absences'].apply(get_absences)\n"
   ]
  },
  {
   "cell_type": "code",
   "execution_count": null,
   "id": "c23119e4",
   "metadata": {},
   "outputs": [],
   "source": [
    "df.head()"
   ]
  },
  {
   "cell_type": "code",
   "execution_count": null,
   "id": "36394fde",
   "metadata": {},
   "outputs": [],
   "source": [
    "df['absences_bin'].value_counts()"
   ]
  },
  {
   "cell_type": "code",
   "execution_count": null,
   "id": "67e37612",
   "metadata": {},
   "outputs": [],
   "source": [
    "N = 2;"
   ]
  },
  {
   "cell_type": "code",
   "execution_count": null,
   "id": "ae6b13bc",
   "metadata": {},
   "outputs": [],
   "source": []
  },
  {
   "cell_type": "code",
   "execution_count": null,
   "id": "8c012e0b",
   "metadata": {},
   "outputs": [],
   "source": [
    "N < 3 and N == 2"
   ]
  },
  {
   "cell_type": "code",
   "execution_count": null,
   "id": "9e75107c",
   "metadata": {},
   "outputs": [],
   "source": [
    "N < 3"
   ]
  },
  {
   "cell_type": "code",
   "execution_count": null,
   "id": "b653cfa4",
   "metadata": {},
   "outputs": [],
   "source": [
    "N == 2"
   ]
  },
  {
   "cell_type": "code",
   "execution_count": null,
   "id": "cba2331d",
   "metadata": {},
   "outputs": [],
   "source": [
    "N < 1 or N == 1"
   ]
  },
  {
   "cell_type": "code",
   "execution_count": null,
   "id": "584d0388",
   "metadata": {},
   "outputs": [],
   "source": [
    "sns.catplot(data=df, x=\"absences_bin\", y=\"G3\", kind=\"swarm\", s = 1)\n"
   ]
  },
  {
   "cell_type": "code",
   "execution_count": null,
   "id": "721031f5",
   "metadata": {},
   "outputs": [],
   "source": [
    "sns.catplot(data=df, x=\"absences_bin\", y=\"G3\"\n",
    "            #, kind=\"swarm\", s = 2\n",
    "           , kind=\"box\"\n",
    "           )\n"
   ]
  },
  {
   "cell_type": "code",
   "execution_count": null,
   "id": "1c51fe5b",
   "metadata": {},
   "outputs": [],
   "source": []
  },
  {
   "cell_type": "code",
   "execution_count": null,
   "id": "f5030834",
   "metadata": {},
   "outputs": [],
   "source": []
  },
  {
   "cell_type": "code",
   "execution_count": null,
   "id": "5f449136",
   "metadata": {},
   "outputs": [],
   "source": []
  }
 ],
 "metadata": {
  "kernelspec": {
   "display_name": "Python 3 (ipykernel)",
   "language": "python",
   "name": "python3"
  },
  "language_info": {
   "codemirror_mode": {
    "name": "ipython",
    "version": 3
   },
   "file_extension": ".py",
   "mimetype": "text/x-python",
   "name": "python",
   "nbconvert_exporter": "python",
   "pygments_lexer": "ipython3",
   "version": "3.10.10"
  }
 },
 "nbformat": 4,
 "nbformat_minor": 5
}
